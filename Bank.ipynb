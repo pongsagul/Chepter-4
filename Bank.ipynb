{
 "cells": [
  {
   "cell_type": "code",
   "execution_count": null,
   "metadata": {},
   "outputs": [
    {
     "name": "stdout",
     "output_type": "stream",
     "text": [
      "\n",
      "\n",
      "choose: 1 >> counter 1 to get guest.\n",
      "choose: 2 >> counter 2 to get guest \n",
      "choose: 3 >> guest waiting \n",
      "choose: 4 >> quit\n",
      "\n",
      "\n",
      "\n",
      "Waiting for guest :  3\n",
      "Enter guest name : =Dream\n",
      "Waiting customer : =   ['Dream']\n",
      "\n",
      "\n",
      "choose: 1 >> counter 1 to get guest.\n",
      "choose: 2 >> counter 2 to get guest \n",
      "choose: 3 >> guest waiting \n",
      "choose: 4 >> quit\n",
      "\n",
      "\n",
      "\n",
      "Waiting for guest :  4\n"
     ]
    }
   ],
   "source": [
    "class Queue:\n",
    "    def __init__(self):\n",
    "        self.items = []\n",
    "\n",
    "    def is_empty(self):\n",
    "        return self.items == []\n",
    "\n",
    "    def enqueue(self, items):\n",
    "        self.items.insert(0,items)\n",
    "\n",
    "    def dequeue(self):\n",
    "        return self.items.pop()\n",
    "    def size(self):\n",
    "        return len(self.items)\n",
    "    def show(self):\n",
    "        return self.items\n",
    "\n",
    "def menu() :\n",
    "    print(\"\\n\\nchoose: 1 >> counter 1 to get guest.\\nchoose: 2 >> counter 2 to get guest \\nchoose: 3 >> guest waiting \\nchoose: 4 >> quit\\n\\n\\n\")\n",
    "queue_Bank = Queue()\n",
    "\n",
    "while True :\n",
    "    menu()\n",
    "    fun_input = int(input(\"Waiting for guest :  \"))\n",
    "    guest_waiting = queue_Bank.size()\n",
    "    if fun_input == 1 :\n",
    "        if  guest_waiting > 0 :\n",
    "            dequeue = queue_Bank.dequeue()\n",
    "            print(\"guest ({}) com to counter 1  : \".format(dequeue))\n",
    "            guest_waiting -= 1\n",
    "            print(\"Number of waiting guest : {}\".format(guest_waiting))\n",
    "            print(\"Waiting guest : =  \",queue_Bank.show())\n",
    "        else:\n",
    "            print(\"Number of waiting guest : {}\".format(guest_waiting))\n",
    "            print(\"No one waiting\")\n",
    "    elif fun_input == 2 :\n",
    "        if guest_waiting > 0 :\n",
    "            dequeue = queue_Bank.dequeue()\n",
    "            print(\"guest ({}) com to counter 2  : \".format(dequeue))\n",
    "            guest_waiting -= 1\n",
    "            print(\"Number of waiting guest : {}\".format(guest_waiting))\n",
    "            print(\"Waiting guest : =  \",queue_Bank.show())\n",
    "        else:\n",
    "            print(\"Number of waiting guest : {}\".format(guest_waiting))\n",
    "            print(\"No one waiting\")\n",
    "   \n"
   ]
  },
  {
   "cell_type": "code",
   "execution_count": null,
   "metadata": {},
   "outputs": [],
   "source": [
    "elif fun_input == 3 :\n",
    "            queue_input = input(\"Enter guest name : =\").strip()\n",
    "            queue_Bank.enqueue(queue_input)\n",
    "            print(\"Waiting customer : =  \",queue_Bank.show())\n",
    "    else :\n",
    "        break\n",
    "   "
   ]
  },
  {
   "cell_type": "code",
   "execution_count": null,
   "metadata": {},
   "outputs": [],
   "source": []
  }
 ],
 "metadata": {
  "kernelspec": {
   "display_name": "Python 3",
   "language": "python",
   "name": "python3"
  },
  "language_info": {
   "codemirror_mode": {
    "name": "ipython",
    "version": 3
   },
   "file_extension": ".py",
   "mimetype": "text/x-python",
   "name": "python",
   "nbconvert_exporter": "python",
   "pygments_lexer": "ipython3",
   "version": "3.7.6"
  }
 },
 "nbformat": 4,
 "nbformat_minor": 4
}
