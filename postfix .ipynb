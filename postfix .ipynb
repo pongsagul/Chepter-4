{
 "cells": [
  {
   "cell_type": "code",
   "execution_count": 1,
   "metadata": {},
   "outputs": [
    {
     "name": "stdout",
     "output_type": "stream",
     "text": [
      "1.25\n"
     ]
    }
   ],
   "source": [
    "class Stack:\n",
    "    def __init__(self):\n",
    "        self.items = []\n",
    "\n",
    "    def is_empty(self):\n",
    "        return self.items == []\n",
    "\n",
    "    def push(self, items):\n",
    "        self.items.append(items)\n",
    "\n",
    "    def pop(self):\n",
    "        return self.items.pop()\n",
    "\n",
    "    def peek(self):\n",
    "        return self.items[len(self.items) - 1]\n",
    "\n",
    "    def size(self):\n",
    "        return len(self.items)\n",
    "\n",
    "def postfix_eval(postfix1):\n",
    "        operand_S = Stack()\n",
    "        token_list = postfix1.split()\n",
    "        for token in token_list:\n",
    "                if token in \"0123456789\":\n",
    "                    operand_S.push(int(token))\n",
    "                else:\n",
    "                    operand2 = operand_S.pop()\n",
    "                    operand1 = operand_S.pop()\n",
    "                    result = do_math(token, operand1, operand2)\n",
    "                    operand_S.push(result)\n",
    "        return operand_S.pop()\n",
    "def do_math(p, p1, p2):\n",
    "        if p == \"*\":\n",
    "            return p1 * p2\n",
    "        elif p == \"/\":\n",
    "                return p1 / p2\n",
    "        elif p == \"+\":\n",
    "                return p1 + p2\n",
    "        else:\n",
    "                return p1 - p2\n",
    "print(postfix_eval('8 7 + 4 8 + /'))"
   ]
  },
  {
   "cell_type": "code",
   "execution_count": null,
   "metadata": {},
   "outputs": [],
   "source": []
  }
 ],
 "metadata": {
  "kernelspec": {
   "display_name": "Python 3",
   "language": "python",
   "name": "python3"
  },
  "language_info": {
   "codemirror_mode": {
    "name": "ipython",
    "version": 3
   },
   "file_extension": ".py",
   "mimetype": "text/x-python",
   "name": "python",
   "nbconvert_exporter": "python",
   "pygments_lexer": "ipython3",
   "version": "3.7.6"
  }
 },
 "nbformat": 4,
 "nbformat_minor": 4
}
