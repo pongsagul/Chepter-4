{
 "cells": [
  {
   "cell_type": "code",
   "execution_count": 15,
   "metadata": {},
   "outputs": [
    {
     "name": "stdout",
     "output_type": "stream",
     "text": [
      "True\n",
      "True\n",
      "True\n",
      "True\n"
     ]
    }
   ],
   "source": [
    "class Dream :\n",
    "    def __init__(self):\n",
    "        self.items = []\n",
    "    def is_empty(self):\n",
    "        return self.items == []\n",
    "    def add_rear(self,item):\n",
    "        self.items.append(item)\n",
    "    def add_front(self,item):\n",
    "        self.items.insert(0,item)\n",
    "    def remove_rear(self):\n",
    "        return self.items.pop()\n",
    "    def remove_front(self):\n",
    "        return self.items.pop(0)\n",
    "    def size(self):\n",
    "        return len(self.items)\n",
    "    def show(self):\n",
    "        return self.items\n",
    "\n",
    "def Palindrome(data):\n",
    "    \n",
    "    Palindrome = Dream()\n",
    "    for string in data :\n",
    "        Palindrome.add_rear(string)\n",
    "    \n",
    "    condition = True\n",
    "    \n",
    "    while Palindrome.size() > 1 and condition :\n",
    "        fore = Palindrome.remove_front()\n",
    "        back = Palindrome.remove_rear()\n",
    "        \n",
    "        if fore  != back:\n",
    "            condition = False\n",
    "    return condition\n",
    "\n",
    "\n",
    "print(Palindrome(\"level\"))\n",
    "print(Palindrome(\"นาน\"))\n",
    "print(Palindrome(\"rasdfggfdsar\"))\n",
    "print(Palindrome(\"กาก\"))"
   ]
  },
  {
   "cell_type": "code",
   "execution_count": null,
   "metadata": {},
   "outputs": [],
   "source": []
  }
 ],
 "metadata": {
  "kernelspec": {
   "display_name": "Python 3",
   "language": "python",
   "name": "python3"
  },
  "language_info": {
   "codemirror_mode": {
    "name": "ipython",
    "version": 3
   },
   "file_extension": ".py",
   "mimetype": "text/x-python",
   "name": "python",
   "nbconvert_exporter": "python",
   "pygments_lexer": "ipython3",
   "version": "3.7.6"
  }
 },
 "nbformat": 4,
 "nbformat_minor": 4
}
